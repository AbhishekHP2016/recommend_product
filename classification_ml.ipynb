{
 "cells": [
  {
   "cell_type": "markdown",
   "metadata": {},
   "source": [
    "### 1    Perform an exploratory data analysis\n",
    "\t- What are the abnormalities in the data?\n",
    "\t- Are there any interesting, perhaps unexpected relationships to be found?"
   ]
  },
  {
   "cell_type": "code",
   "execution_count": 1,
   "metadata": {},
   "outputs": [],
   "source": [
    "# Load necessary packages\n",
    "# Basi\n",
    "import pandas as pd # dataframe manipulation\n",
    "import matplotlib.pyplot as plt # plotting graphs\n",
    "import numpy as np # efficient calculation\n",
    "import seaborn as sns\n",
    "from sklearn.linear_model import LogisticRegression\n",
    "from sklearn.linear_model import Lasso # # Lasso regression to extract key features\n",
    "\n",
    "# Accuracy related\n",
    "from sklearn.metrics import confusion_matrix\n",
    "from sklearn.metrics import classification_report # confusion matrix reporting details\n",
    "from sklearn.model_selection import cross_val_score\n",
    "from sklearn.metrics import roc_auc_score\n",
    "from sklearn.metrics import roc_curve\n",
    "# Algorithms \n",
    "from sklearn.linear_model import LogisticRegression\n",
    "from sklearn.ensemble import RandomForestClassifier\n",
    "from sklearn.tree import DecisionTreeClassifier\n",
    "from sklearn.svm import SVC\n",
    "from sklearn.preprocessing import StandardScaler\n",
    "from sklearn.model_selection import train_test_split\n",
    "\n",
    "# Regression algo\n",
    "\n",
    "import statsmodels.formula.api as smf \n",
    "from sklearn import linear_model"
   ]
  },
  {
   "cell_type": "code",
   "execution_count": 2,
   "metadata": {},
   "outputs": [
    {
     "name": "stdout",
     "output_type": "stream",
     "text": [
      "    radius_0  texture_0  perimeter_0   radius_1  texture_1  perimeter_1  \\\n",
      "0  19.858394  27.204437   136.324256  22.683290  32.802578   119.523841   \n",
      "1  14.182069  15.754730    80.916983  14.043753  30.094704    94.911073   \n",
      "2  25.380268  21.291553   152.281062  23.852166  46.237931          NaN   \n",
      "3  11.835961  17.820702    72.178523  11.260258  44.805167          NaN   \n",
      "4  14.875600  17.534187    98.545830  14.380683  26.190447    89.712492   \n",
      "\n",
      "    radius_2      texture_2  perimeter_2  age treatment_date diagnose_date  \\\n",
      "0  21.477052  27.3070874472    82.366936   44     2006-06-03    2005-10-23   \n",
      "1  15.012329  17.8551305385   103.078286   59     2004-02-22    2007-08-20   \n",
      "2  28.563252  21.0971528265   143.367792   37     2006-01-06    2004-08-07   \n",
      "3  12.082749  16.4992370844    65.920413   51     2003-04-14    2005-06-16   \n",
      "4  12.930685  19.8566873539   108.380754   21     2004-06-21    2002-11-27   \n",
      "\n",
      "   cancer_type  \n",
      "0            0  \n",
      "1            1  \n",
      "2            0  \n",
      "3            1  \n",
      "4            1  \n"
     ]
    }
   ],
   "source": [
    "# Read CSV as DataFrame df\n",
    "df = pd.read_csv('train_data.csv') # Path to the input file\n",
    "# Glimpse of data\n",
    "print(df.head())"
   ]
  },
  {
   "cell_type": "code",
   "execution_count": 3,
   "metadata": {},
   "outputs": [
    {
     "data": {
      "text/plain": [
       "1    250\n",
       "0    148\n",
       "Name: cancer_type, dtype: int64"
      ]
     },
     "execution_count": 3,
     "metadata": {},
     "output_type": "execute_result"
    }
   ],
   "source": [
    "df.cancer_type.value_counts() # Not completely balanced, typical dataset ;)\n",
    "# So, use stratefied while training"
   ]
  },
  {
   "cell_type": "code",
   "execution_count": 4,
   "metadata": {
    "scrolled": true
   },
   "outputs": [],
   "source": [
    "# df['treatment_date'] = pd.to_datetime(df['treatment_date'])\n",
    "# df[\"treatment_month\"] = df[\"treatment_date\"].apply(lambda row: row.month)\n",
    "# df[\"treatment_year\"] = df[\"treatment_date\"].apply(lambda row: row.year)\n",
    "# df[\"treatment_day\"] = df[\"treatment_date\"].apply(lambda row: row.day)\n",
    "# df['diagnose_date'] = pd.to_datetime(df['diagnose_date'])\n",
    "# df[\"diagnose_month\"] = df[\"diagnose_date\"].apply(lambda row: row.month)\n",
    "# df[\"diagnose_year\"] = df[\"diagnose_date\"].apply(lambda row: row.year)\n",
    "# df[\"diagnose_day\"] = df[\"diagnose_date\"].apply(lambda row: row.day)\n",
    "df = df.drop(\"diagnose_date\", axis=1)\n",
    "df = df.drop(\"treatment_date\", axis=1)\n",
    "df = df.drop(\"perimeter_0\", axis = 1) # as it is highly correlated with perimeter_0 == radius_2"
   ]
  },
  {
   "cell_type": "code",
   "execution_count": 5,
   "metadata": {},
   "outputs": [
    {
     "name": "stdout",
     "output_type": "stream",
     "text": [
      "radius_0       float64\n",
      "texture_0      float64\n",
      "radius_1       float64\n",
      "texture_1      float64\n",
      "perimeter_1    float64\n",
      "radius_2       float64\n",
      "texture_2       object\n",
      "perimeter_2    float64\n",
      "age              int64\n",
      "cancer_type      int64\n",
      "dtype: object\n"
     ]
    }
   ],
   "source": [
    "# Inspect data types\n",
    "print(df.dtypes) \n",
    "# textuture_2 type mismatch because it had characters such as xx. So missing values\n",
    "# both dates need to be changed to date or some meaningful features"
   ]
  },
  {
   "cell_type": "code",
   "execution_count": 6,
   "metadata": {},
   "outputs": [
    {
     "name": "stdout",
     "output_type": "stream",
     "text": [
      "         radius_0   texture_0    radius_1   texture_1  perimeter_1  \\\n",
      "count  398.000000  398.000000  343.000000  398.000000   264.000000   \n",
      "mean    21.303711   18.957554   14.123575   30.417222    94.086379   \n",
      "std     49.987646    6.243499    3.780636   15.027855    27.314466   \n",
      "min      6.401956  -17.243202    5.752395    2.395868    43.444930   \n",
      "25%     11.693885   14.581364   11.600838   19.898062    75.188880   \n",
      "50%     13.468170   18.238742   13.385789   30.897762    90.054613   \n",
      "75%     16.323024   22.494291   16.051640   42.555657   106.085670   \n",
      "max    561.311068   40.064462   29.645166   55.820612   227.162938   \n",
      "\n",
      "         radius_2  perimeter_2         age  cancer_type  \n",
      "count  398.000000   398.000000  398.000000   398.000000  \n",
      "mean    14.134922   127.222422   39.876884     0.628141  \n",
      "std      3.748146    49.097558   13.427196     0.483909  \n",
      "min      7.079847    44.918942   18.000000     0.000000  \n",
      "25%     11.573592    84.123724   28.000000     0.000000  \n",
      "50%     13.333610   129.992697   39.000000     1.000000  \n",
      "75%     16.093900   169.538170   50.000000     1.000000  \n",
      "max     28.563252   214.192377   64.000000     1.000000  \n",
      "radius_0         0\n",
      "texture_0        0\n",
      "radius_1        55\n",
      "texture_1        0\n",
      "perimeter_1    134\n",
      "radius_2         0\n",
      "texture_2        0\n",
      "perimeter_2      0\n",
      "age              0\n",
      "cancer_type      0\n",
      "dtype: int64\n"
     ]
    }
   ],
   "source": [
    "# Check for missing values\n",
    "print(df.describe()) # there are missing values in radius_1 and perimeter_1\n",
    "# Since all input values are not between ~0 to ~1, \n",
    "# standardization required\n",
    "print(df.isna().sum())"
   ]
  },
  {
   "cell_type": "code",
   "execution_count": 7,
   "metadata": {},
   "outputs": [
    {
     "data": {
      "text/plain": [
       "array([[<matplotlib.axes._subplots.AxesSubplot object at 0x7f764f061cf8>]],\n",
       "      dtype=object)"
      ]
     },
     "execution_count": 7,
     "metadata": {},
     "output_type": "execute_result"
    },
    {
     "data": {
      "image/png": "[encoded data removed]",
      "text/plain": [
       "<Figure size 432x288 with 1 Axes>"
      ]
     },
     "metadata": {},
     "output_type": "display_data"
    }
   ],
   "source": [
    "df.hist(column='radius_0')"
   ]
  },
  {
   "cell_type": "code",
   "execution_count": null,
   "metadata": {},
   "outputs": [],
   "source": []
  },
  {
   "cell_type": "code",
   "execution_count": 8,
   "metadata": {},
   "outputs": [
    {
     "name": "stderr",
     "output_type": "stream",
     "text": [
      "/home/ec2-user/anaconda3/envs/python3/lib/python3.6/site-packages/ipykernel/__main__.py:1: SettingWithCopyWarning: \n",
      "A value is trying to be set on a copy of a slice from a DataFrame\n",
      "\n",
      "See the caveats in the documentation: http://pandas.pydata.org/pandas-docs/stable/indexing.html#indexing-view-versus-copy\n",
      "  if __name__ == '__main__':\n"
     ]
    },
    {
     "data": {
      "text/plain": [
       "array([[<matplotlib.axes._subplots.AxesSubplot object at 0x7f764efc7a20>]],\n",
       "      dtype=object)"
      ]
     },
     "execution_count": 8,
     "metadata": {},
     "output_type": "execute_result"
    },
    {
     "data": {
      "image/png": "[encoded data removed]",
      "text/plain": [
       "<Figure size 432x288 with 1 Axes>"
      ]
     },
     "metadata": {},
     "output_type": "display_data"
    }
   ],
   "source": [
    "df['radius_0'][df['radius_0'] > 100] = df['radius_0'].mean()\n",
    "df.hist(column = \"radius_0\")"
   ]
  },
  {
   "cell_type": "code",
   "execution_count": 9,
   "metadata": {},
   "outputs": [
    {
     "data": {
      "image/png": "[encoded data removed]",
      "text/plain": [
       "<Figure size 1332x756 with 2 Axes>"
      ]
     },
     "metadata": {},
     "output_type": "display_data"
    }
   ],
   "source": [
    "# # Any correlation between main variables \n",
    "# pd.plotting.scatter_matrix(df.loc[:,[\"radius_0\",\"texture_0\",\"perimeter_0\",\n",
    "#                                     \"radius_1\",\"texture_1\",\"perimeter_1\",\n",
    "#                                     \"radius_2\",\"texture_2\",\"perimeter_2\"]], c = y, figsize = [8, 8],\n",
    "# s=150, marker = 'D')\n",
    "\n",
    "# Bivariate Analysis\n",
    "# Make a Features Correlation Matrix of the WBCD features\n",
    "# Readapted from AN6U5\n",
    "\n",
    "def features_correlation_matrix(df):\n",
    "    from matplotlib import pyplot as plt\n",
    "    from matplotlib import cm as cm\n",
    "    fig = plt.figure()\n",
    "    fig.set_size_inches(18.5, 10.5)\n",
    "    ax1 = fig.add_subplot(111)\n",
    "    \n",
    "    cmap = cm.get_cmap('jet', 100)\n",
    "    \n",
    "    # interpolation='nearest' simply displays an image without \n",
    "    # trying to interpolate between pixels if the display \n",
    "    # resolution is not the same as the image resolution\n",
    "    # The correlation is returned in absolute values:\n",
    "    cax = ax1.imshow(df.corr().abs(), interpolation=\"nearest\", \\\n",
    "                     cmap=cmap)\n",
    "    ax1.grid(True)\n",
    "    plt.title('Correlation Matrix of the dataset features',fontsize=20)\n",
    "    labels=list(df.columns)\n",
    "    \n",
    "    ax1.set_xticks(np.arange(len(labels)))\n",
    "    ax1.set_yticks(np.arange(len(labels)))\n",
    "    \n",
    "    ax1.set_xticklabels(labels,fontsize=15,\\\n",
    "              horizontalalignment=\"left\", rotation='vertical')\n",
    "    \n",
    "    ax1.set_yticklabels(labels,fontsize=15)\n",
    "    \n",
    "    # Add a colorbar\n",
    "    fig.colorbar(cax, ticks=[-1.0, -0.8, -0.6, -0.4, -0.2, 0, \\\n",
    "                             0.2, 0.4, 0.6, 0.8, 1])\n",
    "    plt.show()\n",
    "\n",
    "\n",
    "# Drop the Outcome column from Df and copy it into df_features\n",
    "df_features = df.drop(df.columns[-1],axis=1)\n",
    "# Run the correlation_matrix function, using df_features as argument\n",
    "features_correlation_matrix(df_features)"
   ]
  },
  {
   "cell_type": "markdown",
   "metadata": {},
   "source": [
    "## Substitude for missing values\n",
    "- texture_2, radius_1 and perimeter_1"
   ]
  },
  {
   "cell_type": "code",
   "execution_count": 10,
   "metadata": {},
   "outputs": [
    {
     "data": {
      "text/html": [
       "<div>\n",
       "<style scoped>\n",
       "    .dataframe tbody tr th:only-of-type {\n",
       "        vertical-align: middle;\n",
       "    }\n",
       "\n",
       "    .dataframe tbody tr th {\n",
       "        vertical-align: top;\n",
       "    }\n",
       "\n",
       "    .dataframe thead th {\n",
       "        text-align: right;\n",
       "    }\n",
       "</style>\n",
       "<table border=\"1\" class=\"dataframe\">\n",
       "  <thead>\n",
       "    <tr style=\"text-align: right;\">\n",
       "      <th></th>\n",
       "      <th>radius_0</th>\n",
       "      <th>texture_0</th>\n",
       "      <th>radius_1</th>\n",
       "      <th>texture_1</th>\n",
       "      <th>perimeter_1</th>\n",
       "      <th>radius_2</th>\n",
       "      <th>texture_2</th>\n",
       "      <th>perimeter_2</th>\n",
       "      <th>age</th>\n",
       "      <th>cancer_type</th>\n",
       "    </tr>\n",
       "  </thead>\n",
       "  <tbody>\n",
       "    <tr>\n",
       "      <th>14</th>\n",
       "      <td>9.205499</td>\n",
       "      <td>-17.243202</td>\n",
       "      <td>8.932095</td>\n",
       "      <td>39.357782</td>\n",
       "      <td>NaN</td>\n",
       "      <td>9.056063</td>\n",
       "      <td>28.0304832259</td>\n",
       "      <td>138.15745</td>\n",
       "      <td>63</td>\n",
       "      <td>1</td>\n",
       "    </tr>\n",
       "  </tbody>\n",
       "</table>\n",
       "</div>"
      ],
      "text/plain": [
       "    radius_0  texture_0  radius_1  texture_1  perimeter_1  radius_2  \\\n",
       "14  9.205499 -17.243202  8.932095  39.357782          NaN  9.056063   \n",
       "\n",
       "        texture_2  perimeter_2  age  cancer_type  \n",
       "14  28.0304832259    138.15745   63            1  "
      ]
     },
     "execution_count": 10,
     "metadata": {},
     "output_type": "execute_result"
    },
    {
     "data": {
      "image/png": "[encoded data removed]",
      "text/plain": [
       "<Figure size 432x288 with 1 Axes>"
      ]
     },
     "metadata": {},
     "output_type": "display_data"
    }
   ],
   "source": [
    "df.hist(column='texture_0')\n",
    "df[df.texture_0 < 0] # Outliers"
   ]
  },
  {
   "cell_type": "code",
   "execution_count": 11,
   "metadata": {},
   "outputs": [
    {
     "name": "stderr",
     "output_type": "stream",
     "text": [
      "/home/ec2-user/anaconda3/envs/python3/lib/python3.6/site-packages/ipykernel/__main__.py:1: SettingWithCopyWarning: \n",
      "A value is trying to be set on a copy of a slice from a DataFrame\n",
      "\n",
      "See the caveats in the documentation: http://pandas.pydata.org/pandas-docs/stable/indexing.html#indexing-view-versus-copy\n",
      "  if __name__ == '__main__':\n"
     ]
    },
    {
     "data": {
      "text/plain": [
       "array([[<matplotlib.axes._subplots.AxesSubplot object at 0x7f764a5a3588>]],\n",
       "      dtype=object)"
      ]
     },
     "execution_count": 11,
     "metadata": {},
     "output_type": "execute_result"
    },
    {
     "data": {
      "image/png": "[encoded data removed]",
      "text/plain": [
       "<Figure size 432x288 with 1 Axes>"
      ]
     },
     "metadata": {},
     "output_type": "display_data"
    }
   ],
   "source": [
    "df['texture_0'][df['texture_0'] < 0] = df['texture_0'].mean()\n",
    "df.hist(column = \"texture_0\")"
   ]
  },
  {
   "cell_type": "code",
   "execution_count": 12,
   "metadata": {
    "scrolled": true
   },
   "outputs": [
    {
     "data": {
      "text/html": [
       "<div>\n",
       "<style scoped>\n",
       "    .dataframe tbody tr th:only-of-type {\n",
       "        vertical-align: middle;\n",
       "    }\n",
       "\n",
       "    .dataframe tbody tr th {\n",
       "        vertical-align: top;\n",
       "    }\n",
       "\n",
       "    .dataframe thead th {\n",
       "        text-align: right;\n",
       "    }\n",
       "</style>\n",
       "<table border=\"1\" class=\"dataframe\">\n",
       "  <thead>\n",
       "    <tr style=\"text-align: right;\">\n",
       "      <th></th>\n",
       "      <th>radius_0</th>\n",
       "      <th>texture_0</th>\n",
       "      <th>radius_1</th>\n",
       "      <th>texture_1</th>\n",
       "      <th>perimeter_1</th>\n",
       "      <th>radius_2</th>\n",
       "      <th>perimeter_2</th>\n",
       "      <th>age</th>\n",
       "      <th>cancer_type</th>\n",
       "    </tr>\n",
       "  </thead>\n",
       "  <tbody>\n",
       "    <tr>\n",
       "      <th>count</th>\n",
       "      <td>398.000000</td>\n",
       "      <td>398.000000</td>\n",
       "      <td>343.000000</td>\n",
       "      <td>398.000000</td>\n",
       "      <td>264.000000</td>\n",
       "      <td>398.000000</td>\n",
       "      <td>398.000000</td>\n",
       "      <td>398.000000</td>\n",
       "      <td>398.000000</td>\n",
       "    </tr>\n",
       "    <tr>\n",
       "      <th>mean</th>\n",
       "      <td>14.233279</td>\n",
       "      <td>19.048511</td>\n",
       "      <td>14.123575</td>\n",
       "      <td>30.417222</td>\n",
       "      <td>94.086379</td>\n",
       "      <td>14.134922</td>\n",
       "      <td>127.222422</td>\n",
       "      <td>39.876884</td>\n",
       "      <td>0.628141</td>\n",
       "    </tr>\n",
       "    <tr>\n",
       "      <th>std</th>\n",
       "      <td>3.780206</td>\n",
       "      <td>5.972603</td>\n",
       "      <td>3.780636</td>\n",
       "      <td>15.027855</td>\n",
       "      <td>27.314466</td>\n",
       "      <td>3.748146</td>\n",
       "      <td>49.097558</td>\n",
       "      <td>13.427196</td>\n",
       "      <td>0.483909</td>\n",
       "    </tr>\n",
       "    <tr>\n",
       "      <th>min</th>\n",
       "      <td>6.401956</td>\n",
       "      <td>4.772917</td>\n",
       "      <td>5.752395</td>\n",
       "      <td>2.395868</td>\n",
       "      <td>43.444930</td>\n",
       "      <td>7.079847</td>\n",
       "      <td>44.918942</td>\n",
       "      <td>18.000000</td>\n",
       "      <td>0.000000</td>\n",
       "    </tr>\n",
       "    <tr>\n",
       "      <th>25%</th>\n",
       "      <td>11.693885</td>\n",
       "      <td>14.604272</td>\n",
       "      <td>11.600838</td>\n",
       "      <td>19.898062</td>\n",
       "      <td>75.188880</td>\n",
       "      <td>11.573592</td>\n",
       "      <td>84.123724</td>\n",
       "      <td>28.000000</td>\n",
       "      <td>0.000000</td>\n",
       "    </tr>\n",
       "    <tr>\n",
       "      <th>50%</th>\n",
       "      <td>13.468170</td>\n",
       "      <td>18.246521</td>\n",
       "      <td>13.385789</td>\n",
       "      <td>30.897762</td>\n",
       "      <td>90.054613</td>\n",
       "      <td>13.333610</td>\n",
       "      <td>129.992697</td>\n",
       "      <td>39.000000</td>\n",
       "      <td>1.000000</td>\n",
       "    </tr>\n",
       "    <tr>\n",
       "      <th>75%</th>\n",
       "      <td>16.323024</td>\n",
       "      <td>22.494291</td>\n",
       "      <td>16.051640</td>\n",
       "      <td>42.555657</td>\n",
       "      <td>106.085670</td>\n",
       "      <td>16.093900</td>\n",
       "      <td>169.538170</td>\n",
       "      <td>50.000000</td>\n",
       "      <td>1.000000</td>\n",
       "    </tr>\n",
       "    <tr>\n",
       "      <th>max</th>\n",
       "      <td>31.216269</td>\n",
       "      <td>40.064462</td>\n",
       "      <td>29.645166</td>\n",
       "      <td>55.820612</td>\n",
       "      <td>227.162938</td>\n",
       "      <td>28.563252</td>\n",
       "      <td>214.192377</td>\n",
       "      <td>64.000000</td>\n",
       "      <td>1.000000</td>\n",
       "    </tr>\n",
       "  </tbody>\n",
       "</table>\n",
       "</div>"
      ],
      "text/plain": [
       "         radius_0   texture_0    radius_1   texture_1  perimeter_1  \\\n",
       "count  398.000000  398.000000  343.000000  398.000000   264.000000   \n",
       "mean    14.233279   19.048511   14.123575   30.417222    94.086379   \n",
       "std      3.780206    5.972603    3.780636   15.027855    27.314466   \n",
       "min      6.401956    4.772917    5.752395    2.395868    43.444930   \n",
       "25%     11.693885   14.604272   11.600838   19.898062    75.188880   \n",
       "50%     13.468170   18.246521   13.385789   30.897762    90.054613   \n",
       "75%     16.323024   22.494291   16.051640   42.555657   106.085670   \n",
       "max     31.216269   40.064462   29.645166   55.820612   227.162938   \n",
       "\n",
       "         radius_2  perimeter_2         age  cancer_type  \n",
       "count  398.000000   398.000000  398.000000   398.000000  \n",
       "mean    14.134922   127.222422   39.876884     0.628141  \n",
       "std      3.748146    49.097558   13.427196     0.483909  \n",
       "min      7.079847    44.918942   18.000000     0.000000  \n",
       "25%     11.573592    84.123724   28.000000     0.000000  \n",
       "50%     13.333610   129.992697   39.000000     1.000000  \n",
       "75%     16.093900   169.538170   50.000000     1.000000  \n",
       "max     28.563252   214.192377   64.000000     1.000000  "
      ]
     },
     "execution_count": 12,
     "metadata": {},
     "output_type": "execute_result"
    },
    {
     "data": {
      "image/png": "[encoded data removed]",
      "text/plain": [
       "<Figure size 432x288 with 1 Axes>"
      ]
     },
     "metadata": {},
     "output_type": "display_data"
    },
    {
     "data": {
      "image/png": "[encoded data removed]",
      "text/plain": [
       "<Figure size 432x288 with 1 Axes>"
      ]
     },
     "metadata": {},
     "output_type": "display_data"
    }
   ],
   "source": [
    "# Histogram\n",
    "df.hist(column='radius_1')\n",
    "df.hist(column='perimeter_1')\n",
    "df.describe()"
   ]
  },
  {
   "cell_type": "code",
   "execution_count": 13,
   "metadata": {
    "scrolled": true
   },
   "outputs": [
    {
     "name": "stderr",
     "output_type": "stream",
     "text": [
      "/home/ec2-user/anaconda3/envs/python3/lib/python3.6/site-packages/pandas/core/generic.py:5096: SettingWithCopyWarning: \n",
      "A value is trying to be set on a copy of a slice from a DataFrame.\n",
      "Try using .loc[row_indexer,col_indexer] = value instead\n",
      "\n",
      "See the caveats in the documentation: http://pandas.pydata.org/pandas-docs/stable/indexing.html#indexing-view-versus-copy\n",
      "  self[name] = value\n"
     ]
    },
    {
     "data": {
      "image/png": "[encoded data removed]",
      "text/plain": [
       "<Figure size 432x288 with 1 Axes>"
      ]
     },
     "metadata": {},
     "output_type": "display_data"
    }
   ],
   "source": [
    "temp = df.loc[(df.texture_2 != \"xx\"),]#.sum()\n",
    "temp.texture_2 = temp.texture_2.astype(float)\n",
    "temp.hist(column = \"texture_2\")\n",
    "temp.describe() # Replace with mean \n",
    "texture_2_mean = temp.texture_2.mean()"
   ]
  },
  {
   "cell_type": "code",
   "execution_count": 14,
   "metadata": {},
   "outputs": [],
   "source": [
    "df.texture_2.replace(to_replace=dict(xx= texture_2_mean), inplace=True)\n",
    "df.texture_2 = df.texture_2.astype(float)"
   ]
  },
  {
   "cell_type": "code",
   "execution_count": 15,
   "metadata": {
    "scrolled": true
   },
   "outputs": [],
   "source": [
    "# Replace with mean\n",
    "df = df.fillna(df.mean())#df.median())#an())\n",
    "#Impute the values using scikit-learn SimpleImpute Class\n",
    "# from sklearn.impute import SimpleImputer\n",
    "# imp_mean = SimpleImputer( strategy='mean') #for median imputation replace 'mean' with 'median'\n",
    "# imp_mean.fit(train)\n",
    "# imputed_train_df = imp_mean.transform(train)"
   ]
  },
  {
   "cell_type": "code",
   "execution_count": 16,
   "metadata": {},
   "outputs": [
    {
     "data": {
      "text/html": [
       "<div>\n",
       "<style scoped>\n",
       "    .dataframe tbody tr th:only-of-type {\n",
       "        vertical-align: middle;\n",
       "    }\n",
       "\n",
       "    .dataframe tbody tr th {\n",
       "        vertical-align: top;\n",
       "    }\n",
       "\n",
       "    .dataframe thead th {\n",
       "        text-align: right;\n",
       "    }\n",
       "</style>\n",
       "<table border=\"1\" class=\"dataframe\">\n",
       "  <thead>\n",
       "    <tr style=\"text-align: right;\">\n",
       "      <th></th>\n",
       "      <th>radius_0</th>\n",
       "      <th>texture_0</th>\n",
       "      <th>radius_1</th>\n",
       "      <th>texture_1</th>\n",
       "      <th>perimeter_1</th>\n",
       "      <th>radius_2</th>\n",
       "      <th>texture_2</th>\n",
       "      <th>perimeter_2</th>\n",
       "      <th>age</th>\n",
       "      <th>cancer_type</th>\n",
       "    </tr>\n",
       "  </thead>\n",
       "  <tbody>\n",
       "    <tr>\n",
       "      <th>count</th>\n",
       "      <td>398.000000</td>\n",
       "      <td>398.000000</td>\n",
       "      <td>398.000000</td>\n",
       "      <td>398.000000</td>\n",
       "      <td>398.000000</td>\n",
       "      <td>398.000000</td>\n",
       "      <td>398.000000</td>\n",
       "      <td>398.000000</td>\n",
       "      <td>398.000000</td>\n",
       "      <td>398.000000</td>\n",
       "    </tr>\n",
       "    <tr>\n",
       "      <th>mean</th>\n",
       "      <td>14.233279</td>\n",
       "      <td>19.048511</td>\n",
       "      <td>14.123575</td>\n",
       "      <td>30.417222</td>\n",
       "      <td>94.086379</td>\n",
       "      <td>14.134922</td>\n",
       "      <td>19.459098</td>\n",
       "      <td>127.222422</td>\n",
       "      <td>39.876884</td>\n",
       "      <td>0.628141</td>\n",
       "    </tr>\n",
       "    <tr>\n",
       "      <th>std</th>\n",
       "      <td>3.780206</td>\n",
       "      <td>5.972603</td>\n",
       "      <td>3.508995</td>\n",
       "      <td>15.027855</td>\n",
       "      <td>22.231836</td>\n",
       "      <td>3.748146</td>\n",
       "      <td>5.684066</td>\n",
       "      <td>49.097558</td>\n",
       "      <td>13.427196</td>\n",
       "      <td>0.483909</td>\n",
       "    </tr>\n",
       "    <tr>\n",
       "      <th>min</th>\n",
       "      <td>6.401956</td>\n",
       "      <td>4.772917</td>\n",
       "      <td>5.752395</td>\n",
       "      <td>2.395868</td>\n",
       "      <td>43.444930</td>\n",
       "      <td>7.079847</td>\n",
       "      <td>-0.966998</td>\n",
       "      <td>44.918942</td>\n",
       "      <td>18.000000</td>\n",
       "      <td>0.000000</td>\n",
       "    </tr>\n",
       "    <tr>\n",
       "      <th>25%</th>\n",
       "      <td>11.693885</td>\n",
       "      <td>14.604272</td>\n",
       "      <td>11.841313</td>\n",
       "      <td>19.898062</td>\n",
       "      <td>82.575868</td>\n",
       "      <td>11.573592</td>\n",
       "      <td>15.711594</td>\n",
       "      <td>84.123724</td>\n",
       "      <td>28.000000</td>\n",
       "      <td>0.000000</td>\n",
       "    </tr>\n",
       "    <tr>\n",
       "      <th>50%</th>\n",
       "      <td>13.468170</td>\n",
       "      <td>18.246521</td>\n",
       "      <td>14.060150</td>\n",
       "      <td>30.897762</td>\n",
       "      <td>94.086379</td>\n",
       "      <td>13.333610</td>\n",
       "      <td>19.459098</td>\n",
       "      <td>129.992697</td>\n",
       "      <td>39.000000</td>\n",
       "      <td>1.000000</td>\n",
       "    </tr>\n",
       "    <tr>\n",
       "      <th>75%</th>\n",
       "      <td>16.323024</td>\n",
       "      <td>22.494291</td>\n",
       "      <td>15.370723</td>\n",
       "      <td>42.555657</td>\n",
       "      <td>97.183260</td>\n",
       "      <td>16.093900</td>\n",
       "      <td>22.807407</td>\n",
       "      <td>169.538170</td>\n",
       "      <td>50.000000</td>\n",
       "      <td>1.000000</td>\n",
       "    </tr>\n",
       "    <tr>\n",
       "      <th>max</th>\n",
       "      <td>31.216269</td>\n",
       "      <td>40.064462</td>\n",
       "      <td>29.645166</td>\n",
       "      <td>55.820612</td>\n",
       "      <td>227.162938</td>\n",
       "      <td>28.563252</td>\n",
       "      <td>39.331864</td>\n",
       "      <td>214.192377</td>\n",
       "      <td>64.000000</td>\n",
       "      <td>1.000000</td>\n",
       "    </tr>\n",
       "  </tbody>\n",
       "</table>\n",
       "</div>"
      ],
      "text/plain": [
       "         radius_0   texture_0    radius_1   texture_1  perimeter_1  \\\n",
       "count  398.000000  398.000000  398.000000  398.000000   398.000000   \n",
       "mean    14.233279   19.048511   14.123575   30.417222    94.086379   \n",
       "std      3.780206    5.972603    3.508995   15.027855    22.231836   \n",
       "min      6.401956    4.772917    5.752395    2.395868    43.444930   \n",
       "25%     11.693885   14.604272   11.841313   19.898062    82.575868   \n",
       "50%     13.468170   18.246521   14.060150   30.897762    94.086379   \n",
       "75%     16.323024   22.494291   15.370723   42.555657    97.183260   \n",
       "max     31.216269   40.064462   29.645166   55.820612   227.162938   \n",
       "\n",
       "         radius_2   texture_2  perimeter_2         age  cancer_type  \n",
       "count  398.000000  398.000000   398.000000  398.000000   398.000000  \n",
       "mean    14.134922   19.459098   127.222422   39.876884     0.628141  \n",
       "std      3.748146    5.684066    49.097558   13.427196     0.483909  \n",
       "min      7.079847   -0.966998    44.918942   18.000000     0.000000  \n",
       "25%     11.573592   15.711594    84.123724   28.000000     0.000000  \n",
       "50%     13.333610   19.459098   129.992697   39.000000     1.000000  \n",
       "75%     16.093900   22.807407   169.538170   50.000000     1.000000  \n",
       "max     28.563252   39.331864   214.192377   64.000000     1.000000  "
      ]
     },
     "execution_count": 16,
     "metadata": {},
     "output_type": "execute_result"
    }
   ],
   "source": [
    "# Cross check for data types and missing values\n",
    "df.describe()\n",
    "#df.dtypes"
   ]
  },
  {
   "cell_type": "code",
   "execution_count": 27,
   "metadata": {},
   "outputs": [
    {
     "data": {
      "text/plain": [
       "(120, 9)"
      ]
     },
     "execution_count": 27,
     "metadata": {},
     "output_type": "execute_result"
    }
   ],
   "source": [
    "X = df.drop(\"cancer_type\",axis= 1)\n",
    "y = df.cancer_type\n",
    "# Splitting the dataset into the Training set and Test set\n",
    "X_train, X_test, y_train, y_test = train_test_split(X, y, test_size = 0.3, random_state = 0, stratify=y, shuffle = True)\n",
    "X_train\n",
    "X_test.shape"
   ]
  },
  {
   "cell_type": "markdown",
   "metadata": {},
   "source": [
    "### Feature scaling"
   ]
  },
  {
   "cell_type": "code",
   "execution_count": 28,
   "metadata": {},
   "outputs": [
    {
     "name": "stderr",
     "output_type": "stream",
     "text": [
      "/home/ec2-user/anaconda3/envs/python3/lib/python3.6/site-packages/sklearn/preprocessing/data.py:645: DataConversionWarning: Data with input dtype int64, float64 were all converted to float64 by StandardScaler.\n",
      "  return self.partial_fit(X, y)\n",
      "/home/ec2-user/anaconda3/envs/python3/lib/python3.6/site-packages/sklearn/base.py:464: DataConversionWarning: Data with input dtype int64, float64 were all converted to float64 by StandardScaler.\n",
      "  return self.fit(X, **fit_params).transform(X)\n",
      "/home/ec2-user/anaconda3/envs/python3/lib/python3.6/site-packages/ipykernel/__main__.py:3: DataConversionWarning: Data with input dtype int64, float64 were all converted to float64 by StandardScaler.\n",
      "  app.launch_new_instance()\n"
     ]
    }
   ],
   "source": [
    "sc = StandardScaler()\n",
    "X_train = sc.fit_transform(X_train)\n",
    "X_test = sc.transform(X_test)"
   ]
  },
  {
   "cell_type": "markdown",
   "metadata": {},
   "source": [
    "### Visual EDA"
   ]
  },
  {
   "cell_type": "markdown",
   "metadata": {},
   "source": [
    "### 2    Create a model for predicting the cancer_type\n",
    "\t- Select an appropriate model and keep its complexity reasonable (number of used features, etc.)"
   ]
  },
  {
   "cell_type": "code",
   "execution_count": 29,
   "metadata": {},
   "outputs": [
    {
     "name": "stdout",
     "output_type": "stream",
     "text": [
      "Confusion matrix for Logistic regression \n",
      " [[38  7]\n",
      " [ 9 66]]\n",
      "Logistic Regression Accuracy 0.8666666666666667  \n",
      "\n",
      "Confusion matrix for SVM svc \n",
      " [[34 11]\n",
      " [ 5 70]]\n",
      "SVM svc Accuracy 0.8666666666666667 \n",
      "\n",
      "Confusion matrix for SVM svm \n",
      " [[39  6]\n",
      " [ 9 66]]\n",
      "SVM Accuracy 0.875  \n",
      "\n",
      "Confusion matrix for Decision tree \n",
      " [[37  8]\n",
      " [15 60]]\n",
      "Decision tree Accuracy 0.8083333333333333 \n",
      "\n",
      "Confusion matrix for RandomForestClassifier \n",
      " [[38  7]\n",
      " [ 7 68]]\n",
      "RandomForestClassifier Accuracy 0.8833333333333333\n",
      "              precision    recall  f1-score   support\n",
      "\n",
      "           0       0.84      0.84      0.84        45\n",
      "           1       0.91      0.91      0.91        75\n",
      "\n",
      "   micro avg       0.88      0.88      0.88       120\n",
      "   macro avg       0.88      0.88      0.88       120\n",
      "weighted avg       0.88      0.88      0.88       120\n",
      "\n"
     ]
    },
    {
     "name": "stderr",
     "output_type": "stream",
     "text": [
      "/home/ec2-user/anaconda3/envs/python3/lib/python3.6/site-packages/sklearn/linear_model/logistic.py:433: FutureWarning: Default solver will be changed to 'lbfgs' in 0.22. Specify a solver to silence this warning.\n",
      "  FutureWarning)\n"
     ]
    }
   ],
   "source": [
    "#Using Logistic Regression Algorithm to the Training Set\n",
    "lr = LogisticRegression(random_state = 0)\n",
    "lr.fit(X_train, y_train)\n",
    "y_pred_lr = lr.predict(X_test)\n",
    "cm_lr = confusion_matrix(y_test, y_pred_lr)\n",
    "cm_lr\n",
    "print('Confusion matrix for Logistic regression \\n {}'.format(cm_lr))\n",
    "print(f'Logistic Regression Accuracy {lr.score(X_test,y_test)}  \\n')\n",
    "\n",
    "#Using SVC method of svm class to use Kernel SVM Algorithm\n",
    "svc_rbf = SVC(kernel = 'rbf', random_state = 0)\n",
    "svc_rbf.fit(X_train, y_train)\n",
    "y_pred_svc_rbf = svc_rbf.predict(X_test)\n",
    "cm_svc_rbf = confusion_matrix(y_test, y_pred_svc_rbf)\n",
    "cm_svc_rbf\n",
    "print('Confusion matrix for SVM svc \\n {}'.format(cm_svc_rbf))\n",
    "print(f'SVM svc Accuracy {svc_rbf.score(X_test,y_test)} \\n')\n",
    "\n",
    "#Using SVC method of svm class to use Support Vector Machine Algorithm\n",
    "\n",
    "svc_lin = SVC(kernel = 'linear', random_state = 0)\n",
    "svc_lin.fit(X_train, y_train)\n",
    "y_pred_svc_lin = svc_lin.predict(X_test)\n",
    "cm_svc_lin = confusion_matrix(y_test, y_pred_svc_lin)\n",
    "cm_svc_lin\n",
    "print('Confusion matrix for SVM svm \\n {}'.format(cm_svc_lin))\n",
    "print(f'SVM Accuracy {svc_lin.score(X_test,y_test)}  \\n')\n",
    "\n",
    "#Using DecisionTreeClassifier of tree class to use Decision Tree Algorithm\n",
    "\n",
    "dt = DecisionTreeClassifier(criterion = 'entropy', random_state = 0)\n",
    "dt.fit(X_train, y_train)\n",
    "y_pred_dt = dt.predict(X_test)\n",
    "cm_dt = confusion_matrix(y_test, y_pred_dt)\n",
    "cm_dt\n",
    "print('Confusion matrix for Decision tree \\n {}'.format(cm_dt))\n",
    "print(f'Decision tree Accuracy {dt.score(X_test,y_test)} \\n')\n",
    "\n",
    "#Using RandomForestClassifier method of ensemble class to use Random Forest Classification algorithm\n",
    "\n",
    "rf = RandomForestClassifier(n_estimators = 10, criterion = 'entropy', random_state = 0)\n",
    "rf.fit(X_train, y_train)\n",
    "y_pred_rf = rf.predict(X_test)\n",
    "cm_rf = confusion_matrix(y_test, y_pred_rf)\n",
    "cm_rf\n",
    "print('Confusion matrix for RandomForestClassifier \\n {}'.format(cm_rf))\n",
    "print(f'RandomForestClassifier Accuracy {rf.score(X_test,y_test)}')\n",
    "print(classification_report(y_test, y_pred_rf))"
   ]
  },
  {
   "cell_type": "code",
   "execution_count": 31,
   "metadata": {},
   "outputs": [
    {
     "data": {
      "image/png": "[encoded data removed]",
      "text/plain": [
       "<Figure size 432x288 with 1 Axes>"
      ]
     },
     "metadata": {},
     "output_type": "display_data"
    },
    {
     "name": "stdout",
     "output_type": "stream",
     "text": [
      "Area under the curve:  0.9219259259259259\n"
     ]
    }
   ],
   "source": [
    "\n",
    "#Choose the best model\n",
    "Best = \"Random Forest\" # \"SVC Linear\"#\"Logistic regression\"\n",
    "best = rf\n",
    "best_prob = best.predict_proba(X_test)[:,1]\n",
    "fpr, tpr, thresholds = roc_curve(y_test, best_prob)\n",
    "plt.plot([0, 1], [0, 1], 'k--')\n",
    "plt.plot(fpr, tpr, label= Best)\n",
    "plt.xlabel('False Positive Rate')\n",
    "plt.ylabel('True Positive Rate')\n",
    "plt.title('ROC Curve ')\n",
    "plt.show();\n",
    "print(\"Area under the curve: \",roc_auc_score(y_test, best_prob))"
   ]
  },
  {
   "cell_type": "code",
   "execution_count": 32,
   "metadata": {},
   "outputs": [
    {
     "name": "stdout",
     "output_type": "stream",
     "text": [
      "[0.89795918 0.97755102 0.91088435 0.88214286 0.94571429]\n"
     ]
    }
   ],
   "source": [
    "# Cross validation\n",
    "cv_scores = cross_val_score(best, X_train, y_train, cv=5,\n",
    "scoring='roc_auc')\n",
    "print(cv_scores)"
   ]
  },
  {
   "cell_type": "markdown",
   "metadata": {},
   "source": [
    "## Interpretation\n",
    "- SVC peforms well  with only 7 miscalssification\n",
    "- False Negative has higher consequences !!!\n",
    "- test split .25 random state = 0"
   ]
  },
  {
   "cell_type": "markdown",
   "metadata": {},
   "source": [
    "###   Build a regression model for predicting radius_2 based on perimeter_1\n",
    "\t- the model should be able to quantify its prediction reliability, e.g. density estimates, etc. (please do not just use the outputted R^2 or confidence interval estimates of typical linear regression packages fitting results)\n",
    "\t- prepare a visualization that illustrates possible prediction uncertainties"
   ]
  },
  {
   "cell_type": "code",
   "execution_count": 22,
   "metadata": {},
   "outputs": [
    {
     "data": {
      "text/html": [
       "<div>\n",
       "<style scoped>\n",
       "    .dataframe tbody tr th:only-of-type {\n",
       "        vertical-align: middle;\n",
       "    }\n",
       "\n",
       "    .dataframe tbody tr th {\n",
       "        vertical-align: top;\n",
       "    }\n",
       "\n",
       "    .dataframe thead th {\n",
       "        text-align: right;\n",
       "    }\n",
       "</style>\n",
       "<table border=\"1\" class=\"dataframe\">\n",
       "  <thead>\n",
       "    <tr style=\"text-align: right;\">\n",
       "      <th></th>\n",
       "      <th>radius_0</th>\n",
       "      <th>texture_0</th>\n",
       "      <th>radius_1</th>\n",
       "      <th>texture_1</th>\n",
       "      <th>perimeter_1</th>\n",
       "      <th>radius_2</th>\n",
       "      <th>texture_2</th>\n",
       "      <th>perimeter_2</th>\n",
       "      <th>age</th>\n",
       "      <th>cancer_type</th>\n",
       "    </tr>\n",
       "  </thead>\n",
       "  <tbody>\n",
       "    <tr>\n",
       "      <th>0</th>\n",
       "      <td>19.858394</td>\n",
       "      <td>27.204437</td>\n",
       "      <td>22.683290</td>\n",
       "      <td>32.802578</td>\n",
       "      <td>119.523841</td>\n",
       "      <td>21.477052</td>\n",
       "      <td>27.307087</td>\n",
       "      <td>82.366936</td>\n",
       "      <td>44</td>\n",
       "      <td>0</td>\n",
       "    </tr>\n",
       "    <tr>\n",
       "      <th>1</th>\n",
       "      <td>14.182069</td>\n",
       "      <td>15.754730</td>\n",
       "      <td>14.043753</td>\n",
       "      <td>30.094704</td>\n",
       "      <td>94.911073</td>\n",
       "      <td>15.012329</td>\n",
       "      <td>17.855131</td>\n",
       "      <td>103.078286</td>\n",
       "      <td>59</td>\n",
       "      <td>1</td>\n",
       "    </tr>\n",
       "    <tr>\n",
       "      <th>2</th>\n",
       "      <td>25.380268</td>\n",
       "      <td>21.291553</td>\n",
       "      <td>23.852166</td>\n",
       "      <td>46.237931</td>\n",
       "      <td>94.086379</td>\n",
       "      <td>28.563252</td>\n",
       "      <td>21.097153</td>\n",
       "      <td>143.367792</td>\n",
       "      <td>37</td>\n",
       "      <td>0</td>\n",
       "    </tr>\n",
       "    <tr>\n",
       "      <th>3</th>\n",
       "      <td>11.835961</td>\n",
       "      <td>17.820702</td>\n",
       "      <td>11.260258</td>\n",
       "      <td>44.805167</td>\n",
       "      <td>94.086379</td>\n",
       "      <td>12.082749</td>\n",
       "      <td>16.499237</td>\n",
       "      <td>65.920413</td>\n",
       "      <td>51</td>\n",
       "      <td>1</td>\n",
       "    </tr>\n",
       "    <tr>\n",
       "      <th>4</th>\n",
       "      <td>14.875600</td>\n",
       "      <td>17.534187</td>\n",
       "      <td>14.380683</td>\n",
       "      <td>26.190447</td>\n",
       "      <td>89.712492</td>\n",
       "      <td>12.930685</td>\n",
       "      <td>19.856687</td>\n",
       "      <td>108.380754</td>\n",
       "      <td>21</td>\n",
       "      <td>1</td>\n",
       "    </tr>\n",
       "  </tbody>\n",
       "</table>\n",
       "</div>"
      ],
      "text/plain": [
       "    radius_0  texture_0   radius_1  texture_1  perimeter_1   radius_2  \\\n",
       "0  19.858394  27.204437  22.683290  32.802578   119.523841  21.477052   \n",
       "1  14.182069  15.754730  14.043753  30.094704    94.911073  15.012329   \n",
       "2  25.380268  21.291553  23.852166  46.237931    94.086379  28.563252   \n",
       "3  11.835961  17.820702  11.260258  44.805167    94.086379  12.082749   \n",
       "4  14.875600  17.534187  14.380683  26.190447    89.712492  12.930685   \n",
       "\n",
       "   texture_2  perimeter_2  age  cancer_type  \n",
       "0  27.307087    82.366936   44            0  \n",
       "1  17.855131   103.078286   59            1  \n",
       "2  21.097153   143.367792   37            0  \n",
       "3  16.499237    65.920413   51            1  \n",
       "4  19.856687   108.380754   21            1  "
      ]
     },
     "execution_count": 22,
     "metadata": {},
     "output_type": "execute_result"
    }
   ],
   "source": [
    "df.head()"
   ]
  },
  {
   "cell_type": "code",
   "execution_count": 23,
   "metadata": {},
   "outputs": [
    {
     "data": {
      "image/png": "[encoded data removed]",
      "text/plain": [
       "<Figure size 432x288 with 1 Axes>"
      ]
     },
     "metadata": {},
     "output_type": "display_data"
    }
   ],
   "source": [
    "plt.scatter(df.perimeter_1, df.radius_2)\n",
    "plt.ylabel('Radius 2')\n",
    "plt.xlabel('Perimeter 1')\n",
    "plt.show();"
   ]
  },
  {
   "cell_type": "code",
   "execution_count": 24,
   "metadata": {},
   "outputs": [
    {
     "data": {
      "text/html": [
       "<table class=\"simpletable\">\n",
       "<caption>OLS Regression Results</caption>\n",
       "<tr>\n",
       "  <th>Dep. Variable:</th>        <td>radius_2</td>     <th>  R-squared:         </th> <td>   0.502</td>\n",
       "</tr>\n",
       "<tr>\n",
       "  <th>Model:</th>                   <td>OLS</td>       <th>  Adj. R-squared:    </th> <td>   0.501</td>\n",
       "</tr>\n",
       "<tr>\n",
       "  <th>Method:</th>             <td>Least Squares</td>  <th>  F-statistic:       </th> <td>   399.8</td>\n",
       "</tr>\n",
       "<tr>\n",
       "  <th>Date:</th>             <td>Mon, 24 Feb 2020</td> <th>  Prob (F-statistic):</th> <td>5.48e-62</td>\n",
       "</tr>\n",
       "<tr>\n",
       "  <th>Time:</th>                 <td>22:26:08</td>     <th>  Log-Likelihood:    </th> <td> -951.22</td>\n",
       "</tr>\n",
       "<tr>\n",
       "  <th>No. Observations:</th>      <td>   398</td>      <th>  AIC:               </th> <td>   1906.</td>\n",
       "</tr>\n",
       "<tr>\n",
       "  <th>Df Residuals:</th>          <td>   396</td>      <th>  BIC:               </th> <td>   1914.</td>\n",
       "</tr>\n",
       "<tr>\n",
       "  <th>Df Model:</th>              <td>     1</td>      <th>                     </th>     <td> </td>   \n",
       "</tr>\n",
       "<tr>\n",
       "  <th>Covariance Type:</th>      <td>nonrobust</td>    <th>                     </th>     <td> </td>   \n",
       "</tr>\n",
       "</table>\n",
       "<table class=\"simpletable\">\n",
       "<tr>\n",
       "       <td></td>          <th>coef</th>     <th>std err</th>      <th>t</th>      <th>P>|t|</th>  <th>[0.025</th>    <th>0.975]</th>  \n",
       "</tr>\n",
       "<tr>\n",
       "  <th>Intercept</th>   <td>    2.8920</td> <td>    0.578</td> <td>    5.006</td> <td> 0.000</td> <td>    1.756</td> <td>    4.028</td>\n",
       "</tr>\n",
       "<tr>\n",
       "  <th>perimeter_1</th> <td>    0.1195</td> <td>    0.006</td> <td>   19.994</td> <td> 0.000</td> <td>    0.108</td> <td>    0.131</td>\n",
       "</tr>\n",
       "</table>\n",
       "<table class=\"simpletable\">\n",
       "<tr>\n",
       "  <th>Omnibus:</th>       <td>91.681</td> <th>  Durbin-Watson:     </th> <td>   1.985</td>\n",
       "</tr>\n",
       "<tr>\n",
       "  <th>Prob(Omnibus):</th> <td> 0.000</td> <th>  Jarque-Bera (JB):  </th> <td> 343.664</td>\n",
       "</tr>\n",
       "<tr>\n",
       "  <th>Skew:</th>          <td> 0.976</td> <th>  Prob(JB):          </th> <td>2.37e-75</td>\n",
       "</tr>\n",
       "<tr>\n",
       "  <th>Kurtosis:</th>      <td> 7.113</td> <th>  Cond. No.          </th> <td>    421.</td>\n",
       "</tr>\n",
       "</table><br/><br/>Warnings:<br/>[1] Standard Errors assume that the covariance matrix of the errors is correctly specified."
      ],
      "text/plain": [
       "<class 'statsmodels.iolib.summary.Summary'>\n",
       "\"\"\"\n",
       "                            OLS Regression Results                            \n",
       "==============================================================================\n",
       "Dep. Variable:               radius_2   R-squared:                       0.502\n",
       "Model:                            OLS   Adj. R-squared:                  0.501\n",
       "Method:                 Least Squares   F-statistic:                     399.8\n",
       "Date:                Mon, 24 Feb 2020   Prob (F-statistic):           5.48e-62\n",
       "Time:                        22:26:08   Log-Likelihood:                -951.22\n",
       "No. Observations:                 398   AIC:                             1906.\n",
       "Df Residuals:                     396   BIC:                             1914.\n",
       "Df Model:                           1                                         \n",
       "Covariance Type:            nonrobust                                         \n",
       "===============================================================================\n",
       "                  coef    std err          t      P>|t|      [0.025      0.975]\n",
       "-------------------------------------------------------------------------------\n",
       "Intercept       2.8920      0.578      5.006      0.000       1.756       4.028\n",
       "perimeter_1     0.1195      0.006     19.994      0.000       0.108       0.131\n",
       "==============================================================================\n",
       "Omnibus:                       91.681   Durbin-Watson:                   1.985\n",
       "Prob(Omnibus):                  0.000   Jarque-Bera (JB):              343.664\n",
       "Skew:                           0.976   Prob(JB):                     2.37e-75\n",
       "Kurtosis:                       7.113   Cond. No.                         421.\n",
       "==============================================================================\n",
       "\n",
       "Warnings:\n",
       "[1] Standard Errors assume that the covariance matrix of the errors is correctly specified.\n",
       "\"\"\""
      ]
     },
     "execution_count": 24,
     "metadata": {},
     "output_type": "execute_result"
    }
   ],
   "source": [
    "formula = 'radius_2 ~ perimeter_1'\n",
    "# create a fitted model with all three features\n",
    "lm = smf.ols(formula=formula, data = df).fit()\n",
    "lm.summary()#lm.params"
   ]
  }
 ],
 "metadata": {
  "kernelspec": {
   "display_name": "Environment (conda_python3)",
   "language": "python",
   "name": "conda_python3"
  },
  "language_info": {
   "codemirror_mode": {
    "name": "ipython",
    "version": 3
   },
   "file_extension": ".py",
   "mimetype": "text/x-python",
   "name": "python",
   "nbconvert_exporter": "python",
   "pygments_lexer": "ipython3",
   "version": "3.6.5"
  }
 },
 "nbformat": 4,
 "nbformat_minor": 2
}

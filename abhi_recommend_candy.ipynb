{
 "cells": [
  {
   "cell_type": "markdown",
   "metadata": {},
   "source": [
    "# Which product characteristics (Features) drive customer sentiment (winpercent) ?\n",
    "> Key result expected: Best feature extraction"
   ]
  },
  {
   "cell_type": "code",
   "execution_count": 1,
   "metadata": {},
   "outputs": [],
   "source": [
    "# Load necessary packages\n",
    "from sklearn.model_selection import train_test_split # for Lasso algorithm's feature extraction\n",
    "import pandas as pd # dataframe manipulation\n",
    "import matplotlib.pyplot as plt # plotting graphs\n",
    "import numpy as np # efficient calculation\n",
    "import statsmodels.formula.api as smf # Linear regression: In order to use \"formula notation\" similar to R\n",
    "from sklearn.linear_model import Lasso # # Lasso regression to extract key features"
   ]
  },
  {
   "cell_type": "markdown",
   "metadata": {},
   "source": [
    "## Import and check the data quality"
   ]
  },
  {
   "cell_type": "code",
   "execution_count": 2,
   "metadata": {},
   "outputs": [
    {
     "name": "stdout",
     "output_type": "stream",
     "text": [
      "  competitorname  chocolate  fruity  caramel  peanutyalmondy  nougat  \\\n",
      "0      100 Grand          1       0        1               0       0   \n",
      "1   3 Musketeers          1       0        0               0       1   \n",
      "2       One dime          0       0        0               0       0   \n",
      "3    One quarter          0       0        0               0       0   \n",
      "4      Air Heads          0       1        0               0       0   \n",
      "\n",
      "   crispedricewafer  hard  bar  pluribus  sugarpercent  pricepercent  \\\n",
      "0                 1     0    1         0         0.732         0.860   \n",
      "1                 0     0    1         0         0.604         0.511   \n",
      "2                 0     0    0         0         0.011         0.116   \n",
      "3                 0     0    0         0         0.011         0.511   \n",
      "4                 0     0    0         0         0.906         0.511   \n",
      "\n",
      "   winpercent  \n",
      "0   66.971725  \n",
      "1   67.602936  \n",
      "2   32.261086  \n",
      "3   46.116505  \n",
      "4   52.341465  \n"
     ]
    }
   ],
   "source": [
    "# Read CSV as DataFrame df\n",
    "df = pd.read_csv('candy-data.csv') # Path to the input file\n",
    "# Glimpse of data\n",
    "print(df.head())"
   ]
  },
  {
   "cell_type": "code",
   "execution_count": 3,
   "metadata": {},
   "outputs": [
    {
     "name": "stdout",
     "output_type": "stream",
     "text": [
      "competitorname       object\n",
      "chocolate             int64\n",
      "fruity                int64\n",
      "caramel               int64\n",
      "peanutyalmondy        int64\n",
      "nougat                int64\n",
      "crispedricewafer      int64\n",
      "hard                  int64\n",
      "bar                   int64\n",
      "pluribus              int64\n",
      "sugarpercent        float64\n",
      "pricepercent        float64\n",
      "winpercent          float64\n",
      "dtype: object\n"
     ]
    }
   ],
   "source": [
    "# Inspect data types\n",
    "print(df.dtypes) # exlcuding competitorname, all other features are numerical"
   ]
  },
  {
   "cell_type": "code",
   "execution_count": 4,
   "metadata": {},
   "outputs": [
    {
     "name": "stdout",
     "output_type": "stream",
     "text": [
      "       chocolate     fruity    caramel  peanutyalmondy     nougat  \\\n",
      "count  85.000000  85.000000  85.000000       85.000000  85.000000   \n",
      "mean    0.435294   0.447059   0.164706        0.164706   0.082353   \n",
      "std     0.498738   0.500140   0.373116        0.373116   0.276533   \n",
      "min     0.000000   0.000000   0.000000        0.000000   0.000000   \n",
      "25%     0.000000   0.000000   0.000000        0.000000   0.000000   \n",
      "50%     0.000000   0.000000   0.000000        0.000000   0.000000   \n",
      "75%     1.000000   1.000000   0.000000        0.000000   0.000000   \n",
      "max     1.000000   1.000000   1.000000        1.000000   1.000000   \n",
      "\n",
      "       crispedricewafer       hard        bar   pluribus  sugarpercent  \\\n",
      "count         85.000000  85.000000  85.000000  85.000000     85.000000   \n",
      "mean           0.082353   0.176471   0.247059   0.517647      0.478647   \n",
      "std            0.276533   0.383482   0.433861   0.502654      0.282778   \n",
      "min            0.000000   0.000000   0.000000   0.000000      0.011000   \n",
      "25%            0.000000   0.000000   0.000000   0.000000      0.220000   \n",
      "50%            0.000000   0.000000   0.000000   1.000000      0.465000   \n",
      "75%            0.000000   0.000000   0.000000   1.000000      0.732000   \n",
      "max            1.000000   1.000000   1.000000   1.000000      0.988000   \n",
      "\n",
      "       pricepercent  winpercent  \n",
      "count     85.000000   85.000000  \n",
      "mean       0.468882   50.316764  \n",
      "std        0.285740   14.714357  \n",
      "min        0.011000   22.445341  \n",
      "25%        0.255000   39.141056  \n",
      "50%        0.465000   47.829754  \n",
      "75%        0.651000   59.863998  \n",
      "max        0.976000   84.180290  \n"
     ]
    }
   ],
   "source": [
    "# Check for missing values\n",
    "print(df.describe()) # No missing values \n",
    "# Since all input values are between ~0 to ~1, no standardization required"
   ]
  },
  {
   "cell_type": "code",
   "execution_count": 5,
   "metadata": {},
   "outputs": [
    {
     "data": {
      "text/plain": [
       "chocolate           37\n",
       "fruity              38\n",
       "caramel             14\n",
       "peanutyalmondy      14\n",
       "nougat               7\n",
       "crispedricewafer     7\n",
       "dtype: int64"
      ]
     },
     "execution_count": 5,
     "metadata": {},
     "output_type": "execute_result"
    }
   ],
   "source": [
    "# How the composition is distributed ?\n",
    "df.iloc[:,1:7].sum(axis=0,numeric_only=True) # Seems mostly candies include chocolate and fruity"
   ]
  },
  {
   "cell_type": "markdown",
   "metadata": {},
   "source": [
    "## Visual EDA for correlations"
   ]
  },
  {
   "cell_type": "code",
   "execution_count": 6,
   "metadata": {},
   "outputs": [
    {
     "ename": "NameError",
     "evalue": "name 'sns' is not defined",
     "output_type": "error",
     "traceback": [
      "\u001b[1;31m---------------------------------------------------------------------------\u001b[0m",
      "\u001b[1;31mNameError\u001b[0m                                 Traceback (most recent call last)",
      "\u001b[1;32m<ipython-input-6-24d13c8a1009>\u001b[0m in \u001b[0;36m<module>\u001b[1;34m()\u001b[0m\n\u001b[0;32m      2\u001b[0m \u001b[0mplt\u001b[0m\u001b[1;33m.\u001b[0m\u001b[0mfigure\u001b[0m\u001b[1;33m(\u001b[0m\u001b[0mfigsize\u001b[0m\u001b[1;33m=\u001b[0m\u001b[1;33m(\u001b[0m\u001b[1;36m16\u001b[0m\u001b[1;33m,\u001b[0m\u001b[1;36m16\u001b[0m\u001b[1;33m)\u001b[0m\u001b[1;33m)\u001b[0m\u001b[1;33m\u001b[0m\u001b[0m\n\u001b[0;32m      3\u001b[0m \u001b[0mplt\u001b[0m\u001b[1;33m.\u001b[0m\u001b[0msuptitle\u001b[0m\u001b[1;33m(\u001b[0m\u001b[1;34m\"Correlation of candy features\"\u001b[0m\u001b[1;33m,\u001b[0m \u001b[0mfontsize\u001b[0m\u001b[1;33m=\u001b[0m \u001b[1;36m16\u001b[0m\u001b[1;33m)\u001b[0m\u001b[1;33m\u001b[0m\u001b[0m\n\u001b[1;32m----> 4\u001b[1;33m \u001b[0msns\u001b[0m\u001b[1;33m.\u001b[0m\u001b[0mheatmap\u001b[0m\u001b[1;33m(\u001b[0m\u001b[0mdf\u001b[0m\u001b[1;33m.\u001b[0m\u001b[0mcorr\u001b[0m\u001b[1;33m(\u001b[0m\u001b[1;33m)\u001b[0m\u001b[1;33m,\u001b[0m \u001b[0mannot\u001b[0m\u001b[1;33m=\u001b[0m\u001b[1;32mTrue\u001b[0m\u001b[1;33m,\u001b[0m \u001b[0mfmt\u001b[0m\u001b[1;33m=\u001b[0m\u001b[1;34m\"0.2f\"\u001b[0m\u001b[1;33m,\u001b[0m\u001b[0mcmap\u001b[0m\u001b[1;33m=\u001b[0m\u001b[1;34m\"YlGnBu\"\u001b[0m\u001b[1;33m,\u001b[0m \u001b[0mvmin\u001b[0m\u001b[1;33m=\u001b[0m\u001b[1;33m-\u001b[0m\u001b[1;36m1.0\u001b[0m\u001b[1;33m,\u001b[0m \u001b[0mvmax\u001b[0m\u001b[1;33m=\u001b[0m\u001b[1;36m1.0\u001b[0m\u001b[1;33m)\u001b[0m \u001b[1;31m# anchor the colormap\u001b[0m\u001b[1;33m\u001b[0m\u001b[0m\n\u001b[0m\u001b[0;32m      5\u001b[0m \u001b[0mplt\u001b[0m\u001b[1;33m.\u001b[0m\u001b[0mtight_layout\u001b[0m\u001b[1;33m(\u001b[0m\u001b[0mpad\u001b[0m\u001b[1;33m=\u001b[0m\u001b[1;36m5.0\u001b[0m\u001b[1;33m)\u001b[0m\u001b[1;33m\u001b[0m\u001b[0m\n\u001b[0;32m      6\u001b[0m \u001b[0mplt\u001b[0m\u001b[1;33m.\u001b[0m\u001b[0mshow\u001b[0m\u001b[1;33m(\u001b[0m\u001b[1;33m)\u001b[0m\u001b[1;33m\u001b[0m\u001b[0m\n",
      "\u001b[1;31mNameError\u001b[0m: name 'sns' is not defined"
     ]
    },
    {
     "data": {
      "text/plain": [
       "<Figure size 1152x1152 with 0 Axes>"
      ]
     },
     "metadata": {},
     "output_type": "display_data"
    }
   ],
   "source": [
    "# Colormap to know the correlation between ingredients\n",
    "plt.figure(figsize=(16,16))\n",
    "plt.suptitle(\"Correlation of candy features\", fontsize= 16)\n",
    "sns.heatmap(df.corr(), annot=True, fmt=\"0.2f\",cmap=\"YlGnBu\", vmin=-1.0, vmax=1.0) # anchor the colormap\n",
    "plt.tight_layout(pad=5.0)\n",
    "plt.show()"
   ]
  },
  {
   "cell_type": "markdown",
   "metadata": {},
   "source": [
    "## Interpretation:\n",
    "#### Examining last row of the colormap\n",
    "> 1. Chocholate having correlation factor:0.64 seems to be highly correlated with winpercent\n",
    "> 2. Bar with correlation factor:0.43 is also correlated next to chocolate\n",
    "> 3. Peanutyalmondy also can be influencing factor"
   ]
  },
  {
   "cell_type": "markdown",
   "metadata": {},
   "source": [
    "## Let's examine these 3 ingredients in detail"
   ]
  },
  {
   "cell_type": "code",
   "execution_count": null,
   "metadata": {},
   "outputs": [],
   "source": [
    "# Since there are more than 1 time, we run this piece, let's build function\n",
    "def viz_impact(df,col_x): \n",
    "    # plots violin and pie graphs for a given ingredient comparing it's impact on\n",
    "    # winpercent,pricepercentile,sugarpercentile\n",
    "    viz_graph = plt.figure(figsize=(20,20))\n",
    "    viz_graph.suptitle(\"Impact by ingredient: \"+ col_x,fontsize= 40)\n",
    "\n",
    "    plt.subplot(2,2,1)\n",
    "    plt.title(\"Influence on Winning precentage\",fontsize=16)\n",
    "    sns.violinplot(x= col_x, y=\"winpercent\", data=df,color=\"brown\")\n",
    "    plt.xlabel(\"Does it have ? (Yes = 1, No = 0)\")\n",
    "\n",
    "    plt.subplot(2,2,2)\n",
    "    plt.title(\"Influence on Price percentage\",fontsize=16)\n",
    "    sns.violinplot(x=col_x,y=\"pricepercent\", data=df)\n",
    "    plt.xlabel(\"Does it have ? (Yes = 1, No = 0)\")\n",
    "\n",
    "    if(col_x != \"bar\"): # Since bar wrapping has no influence on sugarpercentile\n",
    "        plt.subplot(2,2,3)\n",
    "        plt.title(\"Total percentage of Candies with and without this ingredient\",fontsize=16)\n",
    "        plt.pie(df[col_x].value_counts(), autopct='%1.1f%%',\n",
    "                colors=[\"#EEDD82\",\"#98FB98\"],\n",
    "                labels=[\"Without it\",\"With it\"],\n",
    "                shadow=True)\n",
    "\n",
    "    plt.subplot(2,2,4)\n",
    "    plt.title(\"Influence on Sugar percentage\",fontsize=16)\n",
    "    sns.violinplot(x=col_x, y=\"sugarpercent\", data=df)\n",
    "    plt.xlabel(\"Does it have ? (Yes = 1, No = 0)\")\n",
    "\n",
    "\n",
    "    plt.show()"
   ]
  },
  {
   "cell_type": "code",
   "execution_count": null,
   "metadata": {
    "scrolled": false
   },
   "outputs": [],
   "source": [
    "viz_impact(df,\"chocolate\")"
   ]
  },
  {
   "cell_type": "markdown",
   "metadata": {},
   "source": [
    "## Interpretation\n",
    "> 1. With chocolate, the winpercent shoots up.\n",
    "> 2. However, with chocolate, price also raises.\n",
    "> 3. Sugar composition seems to be compensated by other ingredients.\n",
    "> 4. More Candies had chocolate then without it."
   ]
  },
  {
   "cell_type": "code",
   "execution_count": null,
   "metadata": {
    "scrolled": false
   },
   "outputs": [],
   "source": [
    "# Impact fro next composition\n",
    "viz_impact(df,\"peanutyalmondy\")"
   ]
  },
  {
   "cell_type": "markdown",
   "metadata": {},
   "source": [
    "## Interpretation:\n",
    "> 1. With peanutyalmondy, the winpercent also shoots up.\n",
    "> 2. However, peanutyalmondy is very costly.\n",
    "> 3. Sugar composition seems to be moderately distributed around half the range.\n",
    "> 4. Mostly, Candies are without peanutyalmondy."
   ]
  },
  {
   "cell_type": "code",
   "execution_count": null,
   "metadata": {
    "scrolled": false
   },
   "outputs": [],
   "source": [
    "# Impact from bar\n",
    "viz_impact(df,\"bar\")"
   ]
  },
  {
   "cell_type": "markdown",
   "metadata": {},
   "source": [
    "## Interpretation:\n",
    "> 1. With bar, winpercent seems to better (around 60%).\n",
    "> 2. However, with bar, it becomes costly\n",
    "> 3. Candies with and without bar have moderate distribution\n",
    "> 4. Mostly, Candies are usually without bar."
   ]
  },
  {
   "cell_type": "markdown",
   "metadata": {},
   "source": [
    "## Having explored the data, in order to more concreately understand the influence of these composition, Let us apply regression methods:\n",
    "* Linear regression\n",
    "* Lasso regression"
   ]
  },
  {
   "cell_type": "markdown",
   "metadata": {},
   "source": [
    "## Linear regression"
   ]
  },
  {
   "cell_type": "code",
   "execution_count": null,
   "metadata": {},
   "outputs": [],
   "source": [
    "formula = 'winpercent ~ chocolate + fruity + caramel + peanutyalmondy + nougat + crispedricewafer + hard + bar + pluribus + sugarpercent + pricepercent'\n",
    "# create a fitted model with all three features\n",
    "lm = smf.ols(formula=formula, data = df).fit()\n",
    "lm.summary()#lm.params"
   ]
  },
  {
   "cell_type": "markdown",
   "metadata": {},
   "source": [
    "## Interpretation:\n",
    "> 1. since p values for chocolate,peanutyalmondy and fruity are significant (<0.05), can reject null hypothesis for those and the rest cannot\n",
    "> 2. chocolate,peanutyalmondy and fruity is highly associated with winpercent\n",
    "    * If chocolate is included, on an average, winpercent increase by 19.8 factor\n",
    "    * If peanutyalmondy is included, on an average, winpercent increase by 10.1 factor\n",
    "    * If fruity is included, on an average, winpercent increase by 9.4 factor\n",
    "    * If candy is wrapped as bar, on an average, winpercent very slightly increase by 0.44 factor\n",
    "> 3. Although pricepercent is negatively correlated, since pvalue is above .05, this cant be justified statistically"
   ]
  },
  {
   "cell_type": "markdown",
   "metadata": {},
   "source": [
    "## 2. Lasso regression to extract features"
   ]
  },
  {
   "cell_type": "code",
   "execution_count": null,
   "metadata": {},
   "outputs": [],
   "source": [
    "print(df.competitorname.unique().shape)\n",
    "# Since the focus is on composition and competitorname is unique for each row, \n",
    "# there is no info from it therefore,it can be excluded\n",
    "# Also, winpercent is the target and hence can be excluded\n",
    "df_columns = df.drop(['winpercent','competitorname'], axis=1).columns"
   ]
  },
  {
   "cell_type": "code",
   "execution_count": null,
   "metadata": {},
   "outputs": [],
   "source": [
    "values"
   ]
  },
  {
   "cell_type": "code",
   "execution_count": null,
   "metadata": {},
   "outputs": [],
   "source": [
    "X = df.drop(['winpercent','competitorname'], axis=1).values\n",
    "y = df.winpercent.values\n",
    "# Instantiate a lasso regressor: lasso\n",
    "lasso = Lasso(alpha = .4, normalize = True)\n",
    "\n",
    "# Fit the regressor to the data\n",
    "lasso.fit(X,y)\n",
    "\n",
    "# Compute and print the coefficients\n",
    "lasso_coef = lasso.fit(X,y).coef_\n",
    "print(lasso_coef)\n",
    "\n",
    "# Plot the coefficients\n",
    "plt.plot(range(len(df_columns)), lasso_coef)\n",
    "plt.xticks(range(len(df_columns)), df_columns.values, rotation=75)\n",
    "plt.margins(0.02)\n",
    "plt.show()"
   ]
  },
  {
   "cell_type": "markdown",
   "metadata": {},
   "source": [
    "## Interpretation:\n",
    "> 1. Most vital feature is chocolate\n",
    "> 2. Next important is peanutyalmondy\n",
    "> 3. Rest features seems to be insignificant as per lasso"
   ]
  },
  {
   "cell_type": "markdown",
   "metadata": {},
   "source": [
    "## *Conclusion*\n",
    "> 1. Key product characteristics that drive customer sentiment is Chocolate and Peanutyalmondy\n",
    "> 2. New product be wrapped preferably as bar and could focus mainly on these three ingredients: \n",
    "    * Chocolate\n",
    "    * Peanutyalmondy\n",
    "    * Fruity"
   ]
  }
 ],
 "metadata": {
  "kernelspec": {
   "display_name": "Python 3",
   "language": "python",
   "name": "python3"
  },
  "language_info": {
   "codemirror_mode": {
    "name": "ipython",
    "version": 3
   },
   "file_extension": ".py",
   "mimetype": "text/x-python",
   "name": "python",
   "nbconvert_exporter": "python",
   "pygments_lexer": "ipython3",
   "version": "3.6.5"
  }
 },
 "nbformat": 4,
 "nbformat_minor": 2
}
